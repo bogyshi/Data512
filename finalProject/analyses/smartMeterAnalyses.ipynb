{
 "cells": [
  {
   "cell_type": "markdown",
   "metadata": {},
   "source": [
    "# Smart Meter Data Cleansing and Analysis\n",
    "## Author: Alexander Van Roijen\n",
    "\n",
    "Synopsis: In this notebook, I go through the process to generate the data and results highlighted [here](https://github.com/bogyshi/Data512/blob/master/finalProject/SmartEnergyResults.ipynb)"
   ]
  },
  {
   "cell_type": "markdown",
   "metadata": {},
   "source": [
    "### The import statements below are necessary to run the rest of this notebook"
   ]
  },
  {
   "cell_type": "code",
   "execution_count": 62,
   "metadata": {},
   "outputs": [],
   "source": [
    "import numpy as np\n",
    "import pandas as pd\n",
    "import pickle as pk\n",
    "import matplotlib.pyplot as plt\n",
    "import datetime\n",
    "import os\n",
    "import matplotlib\n",
    "from matplotlib.lines import Line2D\n",
    "from sklearn import linear_model\n",
    "from scipy.special import comb\n",
    "from scipy import stats\n",
    "import sys\n",
    "sys.path.insert(1, '../data') # need this to import our data cleaning file\n",
    "import sepData"
   ]
  },
  {
   "cell_type": "markdown",
   "metadata": {},
   "source": [
    "### Lets initialize some constants for our analysis"
   ]
  },
  {
   "cell_type": "code",
   "execution_count": 3,
   "metadata": {},
   "outputs": [],
   "source": [
    "numBlocks = 168 # In our data, we have 168 total blocks\n",
    "dataDirec = '../data/pivotData/' # string specifying which directory our data is stored in\n"
   ]
  },
  {
   "cell_type": "markdown",
   "metadata": {},
   "source": [
    "### The code below will create and clean data into the proper formats describe in the [writeup notebook](https://github.com/bogyshi/Data512/blob/master/finalProject/SmartEnergyResults.ipynb).\n",
    "More details on how the functions work can be found in the according [sepData.py script](https://github.com/bogyshi/Data512/blob/master/finalProject/data/sepData.py)"
   ]
  },
  {
   "cell_type": "code",
   "execution_count": null,
   "metadata": {},
   "outputs": [],
   "source": [
    "sepData.createHouseToTypeMappings()\n",
    "sepData.sepAllData()\n",
    "sepData.handleSpills()"
   ]
  },
  {
   "cell_type": "markdown",
   "metadata": {},
   "source": [
    "### With the data cleaned, lets answer our first question!\n",
    "## Are ToU customers responding to this pricing? In particular, do they consume more or less than their static pricing counterparts? Is this relationship significant?"
   ]
  },
  {
   "cell_type": "code",
   "execution_count": 8,
   "metadata": {
    "scrolled": true
   },
   "outputs": [
    {
     "name": "stderr",
     "output_type": "stream",
     "text": [
      "/home/bdvr/anaconda3/lib/python3.7/site-packages/ipykernel_launcher.py:10: FutureWarning: Sorting because non-concatenation axis is not aligned. A future version\n",
      "of pandas will change to not sort by default.\n",
      "\n",
      "To accept the future behavior, pass 'sort=False'.\n",
      "\n",
      "To retain the current behavior and silence the warning, pass 'sort=True'.\n",
      "\n",
      "  # Remove the CWD from sys.path while we load stuff.\n"
     ]
    }
   ],
   "source": [
    "counter = 1\n",
    "ToUData=[]\n",
    "allData=[pd.read_csv(os.path.join(dataDirec,'blockSpillsep.csv'))] ## remember our spillblocks we made? \n",
    "# of course not! it was done by the handleSpills function called earlier, check out the code in sepData.py to learn more!\n",
    "while counter < numBlocks:\n",
    "    vals = pd.read_csv(os.path.join(dataDirec,'block'+str(counter)+'sep.csv'))\n",
    "    allData.append(vals)\n",
    "    counter+=1\n",
    "fullDF = pd.concat(allData,sort=True).set_index('LCLid') # lets aggregate this data into one large df\n",
    "'''\n",
    "The line below joins our full data with our seperate table indicating std or ToU. Then we can groupby the same metric\n",
    "to gget the avg and standard deviations we need per time slice to determine signfigance and generate future plots\n",
    "'''\n",
    "avgAndStd=fullDF.join(justToU.set_index('LCLid')).groupby('stdorToU').agg([np.mean,np.std])"
   ]
  },
  {
   "cell_type": "code",
   "execution_count": 16,
   "metadata": {
    "scrolled": true
   },
   "outputs": [
    {
     "data": {
      "text/html": [
       "<div>\n",
       "<style scoped>\n",
       "    .dataframe tbody tr th:only-of-type {\n",
       "        vertical-align: middle;\n",
       "    }\n",
       "\n",
       "    .dataframe tbody tr th {\n",
       "        vertical-align: top;\n",
       "    }\n",
       "\n",
       "    .dataframe thead tr th {\n",
       "        text-align: left;\n",
       "    }\n",
       "\n",
       "    .dataframe thead tr:last-of-type th {\n",
       "        text-align: right;\n",
       "    }\n",
       "</style>\n",
       "<table border=\"1\" class=\"dataframe\">\n",
       "  <thead>\n",
       "    <tr>\n",
       "      <th></th>\n",
       "      <th colspan=\"2\" halign=\"left\">00:00:00</th>\n",
       "      <th colspan=\"2\" halign=\"left\">00:30:00</th>\n",
       "      <th colspan=\"2\" halign=\"left\">01:00:00</th>\n",
       "      <th colspan=\"2\" halign=\"left\">01:30:00</th>\n",
       "      <th colspan=\"2\" halign=\"left\">02:00:00</th>\n",
       "      <th>...</th>\n",
       "      <th colspan=\"2\" halign=\"left\">22:00:00</th>\n",
       "      <th colspan=\"2\" halign=\"left\">22:30:00</th>\n",
       "      <th colspan=\"2\" halign=\"left\">23:00:00</th>\n",
       "      <th colspan=\"2\" halign=\"left\">23:30:00</th>\n",
       "      <th colspan=\"2\" halign=\"left\">Unnamed: 0</th>\n",
       "    </tr>\n",
       "    <tr>\n",
       "      <th></th>\n",
       "      <th>mean</th>\n",
       "      <th>std</th>\n",
       "      <th>mean</th>\n",
       "      <th>std</th>\n",
       "      <th>mean</th>\n",
       "      <th>std</th>\n",
       "      <th>mean</th>\n",
       "      <th>std</th>\n",
       "      <th>mean</th>\n",
       "      <th>std</th>\n",
       "      <th>...</th>\n",
       "      <th>mean</th>\n",
       "      <th>std</th>\n",
       "      <th>mean</th>\n",
       "      <th>std</th>\n",
       "      <th>mean</th>\n",
       "      <th>std</th>\n",
       "      <th>mean</th>\n",
       "      <th>std</th>\n",
       "      <th>mean</th>\n",
       "      <th>std</th>\n",
       "    </tr>\n",
       "    <tr>\n",
       "      <th>stdorToU</th>\n",
       "      <th></th>\n",
       "      <th></th>\n",
       "      <th></th>\n",
       "      <th></th>\n",
       "      <th></th>\n",
       "      <th></th>\n",
       "      <th></th>\n",
       "      <th></th>\n",
       "      <th></th>\n",
       "      <th></th>\n",
       "      <th></th>\n",
       "      <th></th>\n",
       "      <th></th>\n",
       "      <th></th>\n",
       "      <th></th>\n",
       "      <th></th>\n",
       "      <th></th>\n",
       "      <th></th>\n",
       "      <th></th>\n",
       "      <th></th>\n",
       "      <th></th>\n",
       "    </tr>\n",
       "  </thead>\n",
       "  <tbody>\n",
       "    <tr>\n",
       "      <th>Std</th>\n",
       "      <td>0.201310</td>\n",
       "      <td>0.384248</td>\n",
       "      <td>0.179349</td>\n",
       "      <td>0.356839</td>\n",
       "      <td>0.159694</td>\n",
       "      <td>0.317455</td>\n",
       "      <td>0.145315</td>\n",
       "      <td>0.285296</td>\n",
       "      <td>0.134685</td>\n",
       "      <td>0.256440</td>\n",
       "      <td>...</td>\n",
       "      <td>0.272779</td>\n",
       "      <td>0.314607</td>\n",
       "      <td>0.248106</td>\n",
       "      <td>0.296779</td>\n",
       "      <td>0.220291</td>\n",
       "      <td>0.279107</td>\n",
       "      <td>0.193274</td>\n",
       "      <td>0.257746</td>\n",
       "      <td>5889.551838</td>\n",
       "      <td>3567.745628</td>\n",
       "    </tr>\n",
       "    <tr>\n",
       "      <th>ToU</th>\n",
       "      <td>0.155759</td>\n",
       "      <td>0.208573</td>\n",
       "      <td>0.136889</td>\n",
       "      <td>0.186792</td>\n",
       "      <td>0.123535</td>\n",
       "      <td>0.170162</td>\n",
       "      <td>0.114487</td>\n",
       "      <td>0.158924</td>\n",
       "      <td>0.108778</td>\n",
       "      <td>0.153206</td>\n",
       "      <td>...</td>\n",
       "      <td>0.254613</td>\n",
       "      <td>0.298575</td>\n",
       "      <td>0.233149</td>\n",
       "      <td>0.284386</td>\n",
       "      <td>0.205564</td>\n",
       "      <td>0.259819</td>\n",
       "      <td>0.178524</td>\n",
       "      <td>0.230929</td>\n",
       "      <td>6102.357400</td>\n",
       "      <td>3624.010778</td>\n",
       "    </tr>\n",
       "  </tbody>\n",
       "</table>\n",
       "<p>2 rows × 98 columns</p>\n",
       "</div>"
      ],
      "text/plain": [
       "          00:00:00            00:30:00            01:00:00            \\\n",
       "              mean       std      mean       std      mean       std   \n",
       "stdorToU                                                               \n",
       "Std       0.201310  0.384248  0.179349  0.356839  0.159694  0.317455   \n",
       "ToU       0.155759  0.208573  0.136889  0.186792  0.123535  0.170162   \n",
       "\n",
       "          01:30:00            02:00:00               ...       22:00:00  \\\n",
       "              mean       std      mean       std     ...           mean   \n",
       "stdorToU                                             ...                  \n",
       "Std       0.145315  0.285296  0.134685  0.256440     ...       0.272779   \n",
       "ToU       0.114487  0.158924  0.108778  0.153206     ...       0.254613   \n",
       "\n",
       "                    22:30:00            23:00:00            23:30:00  \\\n",
       "               std      mean       std      mean       std      mean   \n",
       "stdorToU                                                               \n",
       "Std       0.314607  0.248106  0.296779  0.220291  0.279107  0.193274   \n",
       "ToU       0.298575  0.233149  0.284386  0.205564  0.259819  0.178524   \n",
       "\n",
       "                     Unnamed: 0               \n",
       "               std         mean          std  \n",
       "stdorToU                                      \n",
       "Std       0.257746  5889.551838  3567.745628  \n",
       "ToU       0.230929  6102.357400  3624.010778  \n",
       "\n",
       "[2 rows x 98 columns]"
      ]
     },
     "execution_count": 16,
     "metadata": {},
     "output_type": "execute_result"
    }
   ],
   "source": [
    "avgAndStd ## lets look at it and see if it works"
   ]
  },
  {
   "cell_type": "code",
   "execution_count": 96,
   "metadata": {},
   "outputs": [
    {
     "name": "stderr",
     "output_type": "stream",
     "text": [
      "/home/bdvr/anaconda3/lib/python3.7/site-packages/ipykernel_launcher.py:2: FutureWarning: Sorting because non-concatenation axis is not aligned. A future version\n",
      "of pandas will change to not sort by default.\n",
      "\n",
      "To accept the future behavior, pass 'sort=False'.\n",
      "\n",
      "To retain the current behavior and silence the warning, pass 'sort=True'.\n",
      "\n",
      "  \n"
     ]
    }
   ],
   "source": [
    "## however, we also need sample sizes!\n",
    "counts=fullDF.join(justToU.set_index('LCLid')).groupby('stdorToU').count()"
   ]
  },
  {
   "cell_type": "markdown",
   "metadata": {},
   "source": [
    "### With the data generated, lets save it so we dont need to run this again, and then read it back in"
   ]
  },
  {
   "cell_type": "code",
   "execution_count": 17,
   "metadata": {},
   "outputs": [],
   "source": [
    "avgAndStd.to_csv('../data/avg_and_std.csv') \n",
    "counts.to_csv('../data/countsPerStdAndToU.csv')"
   ]
  },
  {
   "cell_type": "code",
   "execution_count": 6,
   "metadata": {},
   "outputs": [],
   "source": [
    "avgAndStd = pd.read_csv('../data/avg_and_std.csv')\n",
    "counts= pd.read_csv('../data/countsPerStdAndToU.csv')"
   ]
  },
  {
   "cell_type": "code",
   "execution_count": 28,
   "metadata": {},
   "outputs": [],
   "source": [
    "times = counts.columns[1:-2] # this gives us some nice labels for our future graphics"
   ]
  },
  {
   "cell_type": "code",
   "execution_count": 16,
   "metadata": {},
   "outputs": [],
   "source": [
    "stdCounts = counts.values[0][1:49].astype(int) ## this is the number of rows under std pricing at each 30 minute interval \n",
    "touCounts = counts.values[1][1:49].astype(int) ## this is the number of rows under ToU pricing at each 30 minute interval\n",
    "## gonna need this for all our pair wise t-tests~"
   ]
  },
  {
   "cell_type": "code",
   "execution_count": 17,
   "metadata": {},
   "outputs": [
    {
     "data": {
      "text/plain": [
       "array([1549567, 1549184, 1549099, 1549250, 1549266, 1549288, 1549296,\n",
       "       1549383, 1549318, 1549263, 1549219, 1549290, 1549295, 1549311,\n",
       "       1549343, 1549318, 1549095, 1549300, 1549235, 1549035, 1549057,\n",
       "       1549158, 1549199, 1549183, 1549140, 1548866, 1549195, 1549142,\n",
       "       1549054, 1549123, 1549077, 1549307, 1549212, 1549197, 1549367,\n",
       "       1549184, 1549344, 1549175, 1549187, 1549224, 1549177, 1549178,\n",
       "       1549261, 1549193, 1549305, 1549282, 1549254, 1549336])"
      ]
     },
     "execution_count": 17,
     "metadata": {},
     "output_type": "execute_result"
    }
   ],
   "source": [
    "stdCounts"
   ]
  },
  {
   "cell_type": "code",
   "execution_count": 10,
   "metadata": {},
   "outputs": [],
   "source": [
    "'''\n",
    "Due to the format of how our data was saved, I concatenate the values together,\n",
    "so the first 96 are std, and the following 96 are ToU\n",
    "'''\n",
    "stdAndToUValsComb = np.concatenate((avgAndStd.values[2][1:97],avgAndStd.values[3][1:97])) # 2 and 3 are the offset indexes for tou and std"
   ]
  },
  {
   "cell_type": "markdown",
   "metadata": {},
   "source": [
    "### With our data read back in and formatted, lets parse it so we can visualize it"
   ]
  },
  {
   "cell_type": "code",
   "execution_count": 11,
   "metadata": {},
   "outputs": [],
   "source": [
    "avgs=[] ## this will hold all our averages\n",
    "stderrs=[] ## this will hold all our standard deviations\n",
    "numVals = len(stdAndToUValsComb) ## this keeps track of how many values we are going to be parsing\n",
    "counter=0"
   ]
  },
  {
   "cell_type": "code",
   "execution_count": 12,
   "metadata": {},
   "outputs": [],
   "source": [
    "while(counter<numVals):\n",
    "    '''\n",
    "    every even numbered zero-indexed position is an avg\n",
    "     \n",
    "    every odd numbered zero-indexed position is the corresponding standard\n",
    "    deviation for each time slice in the respective std or ToU pricing set\n",
    "    '''\n",
    "    avgs.append(stdAndToUValsComb[counter]) \n",
    "    stderrs.append(stdAndToUValsComb[counter+1]) \n",
    "    counter+=2\n",
    "    "
   ]
  },
  {
   "cell_type": "markdown",
   "metadata": {},
   "source": [
    "### Now we cast the data properly, and calculate the standard error\n",
    "Recall, standard error is simple $\\frac{\\sigma}{\\sqrt{n}}$ where n is the sample size"
   ]
  },
  {
   "cell_type": "code",
   "execution_count": 13,
   "metadata": {},
   "outputs": [],
   "source": [
    "# casting data\n",
    "avgSTND = np.array(avgs[0:48]).astype(float)\n",
    "avgTOU = np.array(avgs[48:]).astype(float)\n",
    "stdSTND = np.array(stderrs[0:48]).astype(float)\n",
    "stdTOU = np.array(stderrs[48:]).astype(float)"
   ]
  },
  {
   "cell_type": "code",
   "execution_count": 19,
   "metadata": {},
   "outputs": [],
   "source": [
    "stdErrSTND = stdSTND/np.sqrt(stdCounts) # calculating standard error for std time slots\n",
    "stdErrTOU = stdTOU/np.sqrt(touCounts) # calculating stanrad error for tou time slots"
   ]
  },
  {
   "cell_type": "markdown",
   "metadata": {},
   "source": [
    "### Now lets visualize it!"
   ]
  },
  {
   "cell_type": "code",
   "execution_count": 30,
   "metadata": {
    "scrolled": true
   },
   "outputs": [
    {
     "data": {
      "image/png": "[encoded data removed]",
      "text/plain": [
       "<Figure size 864x576 with 1 Axes>"
      ]
     },
     "metadata": {
      "needs_background": "light"
     },
     "output_type": "display_data"
    }
   ],
   "source": [
    "arnum = len(avgSTND) # how many data points are we plotting?\n",
    "font = {'family' : 'normal',\n",
    "        'size'   : 18} # lets make our text large enough\n",
    "matplotlib.rc('font', **font) # setting font parameters\n",
    "plt.figure(figsize=(12,8)) ## lets make hte figure big!\n",
    "\n",
    "'''\n",
    "matplotlib errorbars will be used to demonstrate the signifigance of our data\n",
    "'''\n",
    "plt.errorbar(np.arange(arnum), avgSTND, [stdErrSTND, stdErrSTND],fmt='.k', lw=1,markerfacecolor='red',ecolor='red',markeredgecolor='red',markersize='12')\n",
    "plt.errorbar(np.arange(arnum), avgTOU, [stdErrTOU, stdErrTOU],fmt='.k',markerfacecolor='green', ecolor='green', lw=1,markeredgecolor='green',markersize='12')\n",
    "\n",
    "plt.xlabel('Time of Day (30 min interval)')\n",
    "plt.ylabel('Avg KW/hh')\n",
    "plt.title('avg 30 minute consumption for std & ToU users)')\n",
    "customLines = [Line2D([0], [0], color='green', lw=4),\n",
    "                Line2D([0], [0], color='red', lw=4)] # this is used to  make our custom legend\n",
    "plt.legend(customLines, ['ToU','std'],loc='upper left') # look here for more info https://matplotlib.org/3.1.1/gallery/text_labels_and_annotations/custom_legends.html\n",
    "plt.xticks(np.arange(0,48,4),times[np.arange(0,48,4)],rotation='vertical') # lets add some labels that make sense!\n",
    "plt.tight_layout() # lets make sure when we save it, that there isnt too much white space\n",
    "plt.savefig('../images/stdvstouAll.jpg',quality=95) # finally, we save the high quality result to file"
   ]
  },
  {
   "cell_type": "markdown",
   "metadata": {},
   "source": [
    "## Observations\n",
    "Clearly, there are some large differences, and the error bars are so small it must be statistically significant, but lets make sure!"
   ]
  },
  {
   "cell_type": "code",
   "execution_count": 35,
   "metadata": {},
   "outputs": [],
   "source": [
    "def calcTVal(avg1,avg2,std1,std2,count1,count2):\n",
    "    '''\n",
    "    This function returns the t-value for the difference between two means assuming unequal variances\n",
    "    You can read more here https://en.wikipedia.org/wiki/Welch%27s_t-test\n",
    "    '''\n",
    "    return (avg1-avg2)/np.sqrt(((std1**2)/count1)+((std2**2)/count2))"
   ]
  },
  {
   "cell_type": "code",
   "execution_count": 36,
   "metadata": {},
   "outputs": [],
   "source": [
    "def calcDF(std1,std2,count1,count2):\n",
    "    '''\n",
    "    We need to calculate the degrees of freedom for our welch test to determine what kind of distribution we are following\n",
    "    '''\n",
    "    top = (std1**2/count1 + std2**2/count2)**2\n",
    "    botPart1 = (std1**2/count1)**2/(count1-1)\n",
    "    botPart2 = (std2**2/count2)**2/(count2-1)\n",
    "    return top/(botPart1+botPart2)"
   ]
  },
  {
   "cell_type": "code",
   "execution_count": 37,
   "metadata": {},
   "outputs": [],
   "source": [
    "## we assume unequal varinaces. Why? \n",
    "## Because I anticipate that users who are under dynamic ToU are much morelikely to vary in their decisions\n",
    "counter = 0\n",
    "pvals = []\n",
    "avgDiffs = []\n",
    "while(counter < len(avgSTND)):\n",
    "    # get necessary information\n",
    "    stdavgVal = avgSTND[counter]\n",
    "    touavgVal = avgTOU[counter]\n",
    "    stdsdVal = stdSTND[counter]\n",
    "    tousdVal = stdTOU[counter]\n",
    "    stdcountVal = stdCounts[counter]\n",
    "    toucountVal = touCounts[counter]\n",
    "    # pass to functions\n",
    "    tVal = calcTVal(stdavgVal,touavgVal,stdsdVal,tousdVal,stdcountVal,toucountVal)\n",
    "    df = calcDF(stdsdVal,tousdVal,stdcountVal,toucountVal)\n",
    "    # calc pvalue, could be done using a table, which is what the below does\n",
    "    pval = stats.t.sf(np.abs(tVal), int(df))*2 # read more here https://docs.scipy.org/doc/scipy/reference/generated/scipy.stats.t.html\n",
    "    pvals.append(pval) # append to list\n",
    "    avgDiffs.append(stdavgVal-touavgVal) # record the difference\n",
    "    counter+=1 # on to the next\n",
    "pvals = np.array(pvals)\n",
    "avgDiffs = np.array(avgDiffs)"
   ]
  },
  {
   "cell_type": "code",
   "execution_count": 38,
   "metadata": {},
   "outputs": [
    {
     "name": "stdout",
     "output_type": "stream",
     "text": [
      "P-value at time 00:00:00 is : 0.0 with avg diff 0.04555165226852256\n",
      "P-value at time 00:30:00 is : 0.0 with avg diff 0.04245928815215902\n",
      "P-value at time 01:00:00 is : 0.0 with avg diff 0.03615918171400587\n",
      "P-value at time 01:30:00 is : 0.0 with avg diff 0.030827801596509913\n",
      "P-value at time 02:00:00 is : 0.0 with avg diff 0.025907109650552942\n",
      "P-value at time 02:30:00 is : 0.0 with avg diff 0.02129954065926093\n",
      "P-value at time 03:00:00 is : 0.0 with avg diff 0.018909873579256165\n",
      "P-value at time 03:30:00 is : 0.0 with avg diff 0.016585453080872545\n",
      "P-value at time 04:00:00 is : 0.0 with avg diff 0.01689951477540834\n",
      "P-value at time 04:30:00 is : 0.0 with avg diff 0.018886259438851347\n",
      "P-value at time 05:00:00 is : 0.0 with avg diff 0.01849406183654831\n",
      "P-value at time 05:30:00 is : 0.0 with avg diff 0.016025233044465056\n",
      "P-value at time 06:00:00 is : 0.0 with avg diff 0.016565370767034904\n",
      "P-value at time 06:30:00 is : 0.0 with avg diff 0.017355926159962926\n",
      "P-value at time 07:00:00 is : 1.0647427540165192e-127 with avg diff 0.011099119539482338\n",
      "P-value at time 07:30:00 is : 2.846612915727147e-100 with avg diff 0.01041302788563983\n",
      "P-value at time 08:00:00 is : 5.919646223028558e-56 with avg diff 0.008172002562424424\n",
      "P-value at time 08:30:00 is : 7.529179873945038e-52 with avg diff 0.008020258889461951\n",
      "P-value at time 09:00:00 is : 7.503415950104276e-89 with avg diff 0.0105288902618291\n",
      "P-value at time 09:30:00 is : 6.946301468274463e-126 with avg diff 0.012535485644192795\n",
      "P-value at time 10:00:00 is : 1.5799457533759645e-186 with avg diff 0.015213762380850482\n",
      "P-value at time 10:30:00 is : 7.184325900159279e-128 with avg diff 0.012799541055358687\n",
      "P-value at time 11:00:00 is : 7.695397283561852e-119 with avg diff 0.012453506778366541\n",
      "P-value at time 11:30:00 is : 1.3080726425238513e-101 with avg diff 0.011562772102988866\n",
      "P-value at time 12:00:00 is : 1.392039549820145e-71 with avg diff 0.00974851892045242\n",
      "P-value at time 12:30:00 is : 9.335466148349258e-84 with avg diff 0.010439147809903265\n",
      "P-value at time 13:00:00 is : 8.775816555032735e-84 with avg diff 0.010321977734483345\n",
      "P-value at time 13:30:00 is : 2.494057332708487e-103 with avg diff 0.011273085204204697\n",
      "P-value at time 14:00:00 is : 4.695556643321257e-109 with avg diff 0.01144745125721039\n",
      "P-value at time 14:30:00 is : 3.089305676127101e-101 with avg diff 0.010918938769636816\n",
      "P-value at time 15:00:00 is : 2.2232221606866927e-122 with avg diff 0.011855570921560837\n",
      "P-value at time 15:30:00 is : 7.220839465242055e-106 with avg diff 0.011300787311486538\n",
      "P-value at time 16:00:00 is : 1.6374150960602817e-152 with avg diff 0.013966501619320032\n",
      "P-value at time 16:30:00 is : 9.59569961321684e-150 with avg diff 0.014613855626890049\n",
      "P-value at time 17:00:00 is : 6.368626482715348e-206 with avg diff 0.017964617321308662\n",
      "P-value at time 17:30:00 is : 2.74170994255258e-180 with avg diff 0.017664401070556\n",
      "P-value at time 18:00:00 is : 1.5095644297780145e-160 with avg diff 0.017082803214925724\n",
      "P-value at time 18:30:00 is : 1.6095483641008638e-175 with avg diff 0.01849421860332945\n",
      "P-value at time 19:00:00 is : 1.7762922599799167e-200 with avg diff 0.019839960111988575\n",
      "P-value at time 19:30:00 is : 2.785262327566956e-286 with avg diff 0.0230614446985708\n",
      "P-value at time 20:00:00 is : 0.0 with avg diff 0.026191689471417312\n",
      "P-value at time 20:30:00 is : 0.0 with avg diff 0.026033119010753836\n",
      "P-value at time 21:00:00 is : 0.0 with avg diff 0.025012929115551863\n",
      "P-value at time 21:30:00 is : 1.4047367648240925e-298 with avg diff 0.020850805454843857\n",
      "P-value at time 22:00:00 is : 1.4162481407691655e-244 with avg diff 0.018166063693228984\n",
      "P-value at time 22:30:00 is : 4.6432014820263487e-184 with avg diff 0.014956395947434864\n",
      "P-value at time 23:00:00 is : 8.40423984917651e-211 with avg diff 0.014726911427085043\n",
      "P-value at time 23:30:00 is : 1.7439321482913635e-262 with avg diff 0.014750381683418218\n"
     ]
    }
   ],
   "source": [
    "for t,p,avg in zip(times,pvals,avgDiffs):\n",
    "    print(f\"P-value at time {t} is : {p} with avg diff {avg}\")"
   ]
  },
  {
   "cell_type": "markdown",
   "metadata": {},
   "source": [
    "### Clearly, there is strong significance here\n",
    "Now, what about our second question?\n",
    "## If this relationship is significant, what kind of savings do we get when switching to ToU? \n",
    "Furthermore, we can see what kind of percentage decrease we are getting, and if its achieving the goals of the study"
   ]
  },
  {
   "cell_type": "code",
   "execution_count": 39,
   "metadata": {},
   "outputs": [
    {
     "name": "stdout",
     "output_type": "stream",
     "text": [
      "10.427517011470306\n",
      "9.582110801646738\n",
      "308.57326658560214\n"
     ]
    }
   ],
   "source": [
    "stdAvgDlyConsumption = np.sum(avgSTND)# how much consumption per day for the average std house?\n",
    "touAvgDlyConsumption = np.sum(avgTOU) # how about for tou houses?\n",
    "avgperyear = np.sum((avgSTND-avgTOU)*365 ) # now what does that mean for the year?\n",
    "print(stdAvgDlyConsumption)\n",
    "print(touAvgDlyConsumption)\n",
    "print(avgperyear)"
   ]
  },
  {
   "cell_type": "markdown",
   "metadata": {},
   "source": [
    "### What about peak load?"
   ]
  },
  {
   "cell_type": "code",
   "execution_count": 40,
   "metadata": {},
   "outputs": [
    {
     "data": {
      "text/plain": [
       "Index(['18:00:00', '18:30:00', '19:00:00', '19:30:00', '20:00:00'], dtype='object')"
      ]
     },
     "execution_count": 40,
     "metadata": {},
     "output_type": "execute_result"
    }
   ],
   "source": [
    "peakTimes = times[36:41]\n",
    "peakTimes # these are the times of greatest draw on the grid"
   ]
  },
  {
   "cell_type": "code",
   "execution_count": 41,
   "metadata": {},
   "outputs": [
    {
     "data": {
      "text/plain": [
       "array([0.05539357, 0.05764366, 0.06106602, 0.07081284, 0.08135982])"
      ]
     },
     "execution_count": 41,
     "metadata": {},
     "output_type": "execute_result"
    }
   ],
   "source": [
    "peakIndexes=np.arange(36,41,1)\n",
    "(avgDiffs[peakIndexes])/avgSTND[peakIndexes] # this shows us the percentage difference between our groups"
   ]
  },
  {
   "cell_type": "markdown",
   "metadata": {},
   "source": [
    "### But where do we see the maximum difference?"
   ]
  },
  {
   "cell_type": "code",
   "execution_count": 44,
   "metadata": {
    "scrolled": true
   },
   "outputs": [
    {
     "name": "stdout",
     "output_type": "stream",
     "text": [
      "[0.22627564]\n",
      "00:00:00\n"
     ]
    }
   ],
   "source": [
    "print(np.max(avgDiffs)/avgSTND[avgDiffs==np.max(avgDiffs)]) # this is the percentage shift\n",
    "print(times[avgDiffs==np.max(avgDiffs)][0]) # this is the time where it happens"
   ]
  },
  {
   "cell_type": "markdown",
   "metadata": {},
   "source": [
    "## Great! Now We can address our final research question \"Can we model future consumption using only past consumption as a signal?\"\n",
    "\n",
    "If you recall, we will be using SINDy to achieve this task! this is where the following functions come into play\n",
    "\n",
    "__Warning, the code below may not make too much sense unless you are familiar with SINDy__\n",
    "\n",
    "To better familiarize yourself with the code below, feel free to read over my own paper [here](https://github.com/bogyshi/AMATH563/blob/master/hw2/hw2Report.pdf)"
   ]
  },
  {
   "cell_type": "code",
   "execution_count": 4,
   "metadata": {},
   "outputs": [],
   "source": [
    "'''\n",
    "These functions below are for formatting our data into a form acceptable for SINDy processing\n",
    "'''\n",
    "\n",
    "def windowData(houseVals,windowSize=2):\n",
    "    '''\n",
    "    This function takes a blocks data, and the window size, and simply creates data in the form of \n",
    "    Inputs:\n",
    "    [[C@(t-windowSize), C@(t-windowSize+1),  C@(t-windowSize+2) ...  C@(t-1)],\n",
    "     [C@(t-windowSize+1, C@(t-windowSize+2),  C@(t-windowSize+3) ...  C@(t)]\n",
    "     ...\n",
    "     ]\n",
    "    Outputs:\n",
    "    [[C@(t)],\n",
    "     [C@(t+1)]\n",
    "     ...\n",
    "     ]\n",
    "    This creates a matrix such that each row represents a window of consumption (C) leading up to the next level of consumption\n",
    "    '''\n",
    "    counter = 2\n",
    "    ins=[]\n",
    "    outs=[]\n",
    "    j=0\n",
    "    while(counter<houseVals.shape[0]):\n",
    "        temparr = []\n",
    "        j=windowSize\n",
    "        while(j>0):\n",
    "            temparr.append(houseVals[counter-j])\n",
    "            j-=1\n",
    "        ins.append(temparr)\n",
    "        outs.append(houseVals[counter])\n",
    "        counter+=1\n",
    "    return np.array(ins),np.array(outs).reshape(-1,1)\n",
    "def createWindowData(blockRange,windowSize,save=False):\n",
    "    '''\n",
    "    This function lets you state how many blocks of information you want to use, \n",
    "    as well as the window of data you want to use, whether that is simply 1,2,3 or even a whole days worth of 48 timesteps\n",
    "    '''\n",
    "    skipRows = np.setdiff1d(temp1.index,temp1.dropna().index) # are there any rows with null values? if so, lets make sure to skip them\n",
    "    counter = 0\n",
    "    inputs=[]\n",
    "    outputs=np.array([])\n",
    "    init=False\n",
    "    houseData = pd.read_csv('../data/houseData.csv',header=0,encoding='ISO-8859-1') # lets get  house ids and make sure they are what we want\n",
    "    for h in blockRange:\n",
    "        houseReadings = pd.read_csv('../data/pivotData/block'+str(h)+'sep.csv',header=0,encoding='ISO-8859-1').dropna() # get the house data and drop null rows\n",
    "        for x in houseData.values: # for each house, lets get their values\n",
    "            oneHouseReadings = (houseReadings.iloc[(temp1.LCLid==x[0]).values]).values[:,2:] # this is one houses data\n",
    "            counter+=1\n",
    "            if(oneHouseReadings.shape[0]!=0): # if the dataset is empty, dont try to process it!\n",
    "                x,y=windowData(oneHouseReadings.flatten(),windowSize) # lets get our inputs and outputs\n",
    "                if(init): # if we havent initialized, dont try to append data\n",
    "                    inputs=np.concatenate((inputs,x)) # append new  inputs to our current number of input rows\n",
    "                    outputs = np.concatenate((outputs,y)) # same thing but for outputs\n",
    "                else: # our inputs and outputs are empty, lets set initialize then\n",
    "                    inputs = x\n",
    "                    outputs = y\n",
    "                    init = True # dont need to do this again\n",
    "    if(save):# if we want to save after generating a lot of data, lets do that!\n",
    "        np.save('../data/block'+str(blockRange[0])+'-'+str(blockRange[-1])+'wdsz'+str(windowSize)+'INS.npy',inputs) # saving inputs\n",
    "        np.save('../data/block'+str(blockRange[0])+'-'+str(blockRange[-1])+'wdsz'+str(windowSize)+'OUTS.npy',outputs) # saving outputs\n",
    "    return inputs,outputs # return data just in case"
   ]
  },
  {
   "cell_type": "code",
   "execution_count": 45,
   "metadata": {},
   "outputs": [],
   "source": [
    "'''\n",
    "The functions below are meant to generate coefficients, \n",
    "future smart meter readings, and then present a graphic \n",
    "to highlight its abilities.\n",
    "'''\n",
    "def plotMyAttempt(ogv,myv,time,startpos,duration,timeString,title = 'prediction of consumption over time',ylab='kwh/hh',\n",
    "                  legendData=['original', 'my guess'],bigfig = False,saveFig=False,saveName='../images/tempPic.jpg'):\n",
    "    if(bigfig):\n",
    "        plt.figure(figsize=(10,8)) # lets make the picture bigger!\n",
    "    repFactor = int(duration / 48) # for future versions, meant for forecasting over day long periods\n",
    "    part1Times = timeString[np.arange(startpos,48)] # starting from the initial time 'start pos' to the end of the day\n",
    "    part2Times = timeString[np.arange(0,(duration+startpos)%48)] # starting from the beginning of the day to the 'start pos' -1 time slot\n",
    "    timeOrder = np.concatenate((part1Times,part2Times),axis=None) # now lets get a proper x axis\n",
    "    timeOrder = timeOrder[np.arange(0,48,4)] # give the x axis labels\n",
    "    plt.clf() # clear any residual figures\n",
    "    plt.plot(ogv,'--') # original values, or what we want to predict\n",
    "    plt.plot(myv, 'o') # my predicted values, what we hope is similar to ogv\n",
    "\n",
    "    plt.title(title) # add custom title\n",
    "    plt.ylabel(ylab) # add custom ylab, originall kilowatt hours per half hour (kwh/hh)\n",
    "    plt.xlabel('time of day') #\n",
    "    plt.xticks(np.arange(0,48,4),timeOrder,rotation='vertical')\n",
    "    plt.tight_layout()\n",
    "\n",
    "    plt.legend(legendData, loc='upper left')\n",
    "    if(saveFig):\n",
    "        plt.savefig(saveName,quality=95) # saved if wanted\n",
    "    plt.show()\n",
    "\n",
    "def solveLasso(A,b,penalty,iters=0): \n",
    "    '''\n",
    "    solves lasso regression with a penalthy and maximum iterations specified\n",
    "    '''\n",
    "    if(iters>0):\n",
    "        clf = linear_model.Lasso(alpha=penalty,max_iter=iters)\n",
    "    else:\n",
    "        clf = linear_model.Lasso(alpha=penalty)\n",
    "    clf.fit(A,b)\n",
    "    return (clf.coef_)\n",
    "\n",
    "\n",
    "def getLargeLib(ys,single=False):\n",
    "    '''\n",
    "    This currently creates a large library depending on the window size of the data\n",
    "    transformations include y, sqrt(y), y squared, y cubed, all pairwise multiplications,\n",
    "    all pairwise multiplicaitons sined, three way multiplications\n",
    "    '''\n",
    "    numYs = ys.shape[1]\n",
    "    y1 = ys[:,0]\n",
    "    y2 = ys[:,1]\n",
    "    ycounter = 0 \n",
    "    if(single):\n",
    "        numRows=1\n",
    "    else:\n",
    "        numRows = len(ys)\n",
    "    numCols = int(1+5*numYs+2*comb(numYs,2)+comb(numYs,3))\n",
    "    colCounter = 0\n",
    "    lib = np.ones([numRows,numCols]) # constant / intercept\n",
    "    lib[:,0]#nothing as its our constant column\n",
    "    colCounter+=1\n",
    "    while(ycounter<numYs): # y\n",
    "        lib[:,colCounter] = ys[:,ycounter]\n",
    "        ycounter+=1\n",
    "        colCounter+=1\n",
    "    ycounter=0\n",
    "    while(ycounter<numYs): # sqrt(y)\n",
    "        lib[:,colCounter] = np.sqrt(ys[:,ycounter])\n",
    "        ycounter+=1\n",
    "        colCounter+=1\n",
    "    ycounter=0\n",
    "    while(ycounter<numYs): # sin(y)\n",
    "        lib[:,colCounter] = np.sin(ys[:,ycounter])\n",
    "        ycounter+=1\n",
    "        colCounter+=1\n",
    "    ycounter=0\n",
    "    while(ycounter<numYs): # y^2\n",
    "        lib[:,colCounter] = ys[:,ycounter]**2\n",
    "        ycounter+=1\n",
    "        colCounter+=1\n",
    "    ycounter=0\n",
    "    while(ycounter<numYs): # y^3\n",
    "        lib[:,colCounter] = ys[:,ycounter]**3\n",
    "        ycounter+=1\n",
    "        colCounter+=1\n",
    "    ycounter=0\n",
    "    j=0\n",
    "    while(ycounter<numYs): # y_i * y_j\n",
    "        j=ycounter+1\n",
    "        while(j<numYs):\n",
    "            lib[:,colCounter]=(ys[:,ycounter]*ys[:,j])\n",
    "            colCounter+=1\n",
    "            j+=1\n",
    "        ycounter+=1\n",
    "    ycounter=0\n",
    "    j=0\n",
    "    while(ycounter<numYs):# sin(y_i*y_j)\n",
    "        j=ycounter+1\n",
    "        while(j<numYs):\n",
    "            lib[:,colCounter]=np.sin(ys[:,ycounter]*ys[:,j])\n",
    "            colCounter+=1\n",
    "            j+=1\n",
    "        ycounter+=1\n",
    "    ycounter=0\n",
    "    j=0\n",
    "    k=0\n",
    "    while(ycounter<numYs): #(y_counter * y_j * y_k) # only works with at least 3 signals\n",
    "        j=ycounter+1\n",
    "        while(j<numYs):\n",
    "            k = j+1\n",
    "            while(k<numYs):\n",
    "                lib[:,colCounter]=ys[:,ycounter]*ys[:,j]*ys[:,k]\n",
    "                colCounter+=1\n",
    "                k+=1\n",
    "            j+=1\n",
    "        ycounter+=1\n",
    "    \n",
    "    return lib\n",
    "\n",
    "def marchForward(time,coefPower, initPoint,windowSize,filter=None,doLargeLib=False):\n",
    "    '''\n",
    "    This function, given an initial starting point, marches our predictions forward, and uses\n",
    "    each prediction as a new input to predicting the next step, while pushing all other points back.\n",
    "    \n",
    "    time is the duration, or how many time steps we seek to predict into the future\n",
    "    \n",
    "    coefPower are the coefficient values determined by the lasso regression \n",
    "    \n",
    "    initPoint is our initial input to be used to start our predictions\n",
    "    \n",
    "    windowSize is how many datapoints are in our input\n",
    "    \n",
    "    filter is an array the size of the coefPower that lets users specify particular parameters to zero out\n",
    "    \n",
    "    doLargeLib is a boolean to handle for legacy code, will be updated\n",
    "    \n",
    "    \n",
    "    It returns the series of predictions over a specified time frame\n",
    "    '''\n",
    "    counter = 0\n",
    "    duration=len(time)\n",
    "    debug = False\n",
    "    myReading = initPoint\n",
    "    myGuesses = np.zeros([duration,2])\n",
    "    while(counter<duration):\n",
    "        i=0\n",
    "\n",
    "        if(doLargeLib): # we used to have an older library creation function, so this legacy code remains \n",
    "            toCoefPower= getLargeLib(myReading.reshape(1,-1),True) # We need to transform our input\n",
    "        else:\n",
    "            toCoefPower= getLibrary(myReading.reshape(1,-1),True)\n",
    "\n",
    "        if(filter is not None): # can use a custom filter to set particular coefficents to zero, useful when values explode\n",
    "            tfilter = np.array(filter,dtype=bool)\n",
    "            toCoefPower = (toCoefSS.T[tfilter]).T\n",
    "\n",
    "        myNewReading = toCoefPower.dot(coefPower)[0]\n",
    "        while(i<windowSize-1):\n",
    "            myReading[i]=myReading[i+1]\n",
    "            i+=1\n",
    "        myReading[-1]=myNewReading\n",
    "        myGuesses[counter] = [time[counter],myNewReading]\n",
    "        counter+=1\n",
    "    if(debug):\n",
    "        print(toCoefPower.shape)\n",
    "    return myGuesses"
   ]
  },
  {
   "cell_type": "markdown",
   "metadata": {},
   "source": [
    "### With the functions detailed and explained, lets use them to try and predict future energy usage!\n",
    "In particular, lets try a window size of 2 hours, lets see if transformation on 2 hours worth of signal can give us enough data to make something meaningful!"
   ]
  },
  {
   "cell_type": "code",
   "execution_count": null,
   "metadata": {},
   "outputs": [],
   "source": [
    "createWindowData([1],4,True) ## this will create and save our data for a window of size 4 30 min intervals, or two hours"
   ]
  },
  {
   "cell_type": "markdown",
   "metadata": {},
   "source": [
    "### With our data prepared, lets load it, and try to solve it for some coefficients with the following parameters\n",
    "\n",
    "$\\lambda = 0.0001$\n",
    "\n",
    "$maxIter$ = None"
   ]
  },
  {
   "cell_type": "code",
   "execution_count": 46,
   "metadata": {},
   "outputs": [
    {
     "name": "stderr",
     "output_type": "stream",
     "text": [
      "/home/bdvr/anaconda3/lib/python3.7/site-packages/sklearn/linear_model/coordinate_descent.py:491: ConvergenceWarning: Objective did not converge. You might want to increase the number of iterations. Fitting data with very small alpha may cause precision problems.\n",
      "  ConvergenceWarning)\n"
     ]
    }
   ],
   "source": [
    "fourdinputs = np.load('../data/block1-1wdsz4INS.npy')\n",
    "fourdoutputs = np.load('../data/block1-1wdsz4OUTS.npy')\n",
    "fourlib = getLargeLib(fourdinputs) # this gets us a giant transformation library\n",
    "fourCoef = solveLasso(fourlib,fourdoutputs,0.0001) # this will solve and return our coefficents"
   ]
  },
  {
   "cell_type": "code",
   "execution_count": 47,
   "metadata": {},
   "outputs": [
    {
     "data": {
      "text/plain": [
       "array([ 0.        ,  0.        ,  0.04694885,  0.        ,  0.68360398,\n",
       "        0.07405215,  0.04252524,  0.07632965,  0.        ,  0.        ,\n",
       "        0.        , -0.02987075, -0.        , -0.05716236, -0.03699646,\n",
       "       -0.02509103, -0.06855333,  0.01114727,  0.0040723 ,  0.00348703,\n",
       "        0.01682694,  0.0339507 ,  0.04328885,  0.00831659,  0.02655673,\n",
       "        0.01972546,  0.03228695, -0.01904978,  0.03157186,  0.03007388,\n",
       "       -0.01354396,  0.        , -0.04814603, -0.02247425,  0.00069087,\n",
       "       -0.        , -0.00627292])"
      ]
     },
     "execution_count": 47,
     "metadata": {},
     "output_type": "execute_result"
    }
   ],
   "source": [
    "fourCoef #what do our coefficeints look like?"
   ]
  },
  {
   "cell_type": "code",
   "execution_count": 48,
   "metadata": {},
   "outputs": [
    {
     "data": {
      "image/png": "[encoded data removed]",
      "text/plain": [
       "<Figure size 720x576 with 1 Axes>"
      ]
     },
     "metadata": {
      "needs_background": "light"
     },
     "output_type": "display_data"
    }
   ],
   "source": [
    "duration = 48*1 # lets go for one day, or 48 half hour intervals\n",
    "timeReplace=np.arange(duration)\n",
    "startpos = 23 # what timepoint from the initial output should we start from?\n",
    "fourRes = marchForward(timeReplace,fourCoef,np.copy(fourdinputs[startpos]),4,None,True)\n",
    "plotMyAttempt(fourdoutputs[startpos:startpos+duration,0],fourRes[:,1],timeReplace,startpos,duration,times,\n",
    "              'Predicted vs actual consumption over one day',bigfig=True,saveFig=True,saveName='../images/4dwindowRes.jpg')"
   ]
  },
  {
   "cell_type": "markdown",
   "metadata": {},
   "source": [
    "### And thats it! we have our predictions plotted over time!"
   ]
  },
  {
   "cell_type": "markdown",
   "metadata": {},
   "source": [
    "# Summary & Results\n",
    "You can find a more elaborate discussion of results, including motivation, and previous works in [this notebook](https://www.google.com)"
   ]
  }
 ],
 "metadata": {
  "kernelspec": {
   "display_name": "Python 3",
   "language": "python",
   "name": "python3"
  },
  "language_info": {
   "codemirror_mode": {
    "name": "ipython",
    "version": 3
   },
   "file_extension": ".py",
   "mimetype": "text/x-python",
   "name": "python",
   "nbconvert_exporter": "python",
   "pygments_lexer": "ipython3",
   "version": "3.7.1"
  }
 },
 "nbformat": 4,
 "nbformat_minor": 2
}
