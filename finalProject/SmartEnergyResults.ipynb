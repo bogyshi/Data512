{
 "cells": [
  {
   "cell_type": "markdown",
   "metadata": {},
   "source": [
    "# U.K. Smart Meter Energy Report\n",
    "## Author: Alexander Van Roijen\n",
    "## Due Date: 12/10/2019"
   ]
  },
  {
   "cell_type": "markdown",
   "metadata": {},
   "source": [
    "## I. Introduction\n",
    "This notebook and repository is dedicated to a reproducible investigation into a multi year study on energy consumption in the United Kingdom (U.K.). I will first provide background into the problem the data was collected for, related work, and the motivation behind this analysis. I will then explicitly describe the data and the permissions surrounding it. I will then introduced the research questions to be investigated as well as the methods used to answer them. Finally the results will be presented showing how __insert one sentence summary of what I found that was cool__. References as well as all code used to generate the data for analysis can be found at the end of the notebook."
   ]
  },
  {
   "cell_type": "markdown",
   "metadata": {},
   "source": [
    "## II. Background\n",
    "According to the world bank as of 2017, we are at a global electrification of 88.8%, meaning about 88.8% of the worlds population has access to electricity $^{[1]}$. At the same time, many countries that have had electricity for a long time are learning how to better manage its generation and distribution. Here are some useful terms to keep in mind:\n",
    "- System balancing (SB): The matching of energy supply to the time at which energy is being requested \n",
    "- Constraint management (CM): During peak times, we cant potentially output enough energy for everyone in every location. So we need to manage the demand if possible\n",
    "- Demand response (DR): Altering consumer electric usage by providing financial incentives.\n",
    "\n",
    "Consequently, many utilities and governments are working together to implement demand response programs to help with system balancing and constraint management. In particular, a popular form is through Dynamic time-of-use (dToU) tariffs, as opposed to standard static pricing methods. The main idea being, we charge customers more during high demand periods for energy to discourage wasteful or inefficient uses to times of lower demand. By using these tariffs, one can hope to  achieve demand response to help with both system balancing and constraint management. This notebook will explore exactly how well this method worked. But first, why am I interested in the first place?\n",
    "### Motivation\n",
    "I have always been fascinated by energy consumption, starting back to the [energy dis-aggregation task](https://web.stanford.edu/group/peec/cgi-bin/docs/events/2011/becc/presentations/3%20Disaggregation%20The%20Holy%20Grail%20-%20Carrie%20Armel.pdf) that I helped do some research in during [my undergrad](https://aaai.org/ojs/index.php/AAAI/article/view/3872). It would be interesting to try similar work on this data. However, this notebook focuses on a simple analyses on how dynamic pricing impacts DR.\n",
    "### Related Work\n",
    "There has been significant investigation already into demand response in various countries across the world. with a particular focus on European countries ${^[2,3,4]}$. Furthermore, despite low usage of this dataset within the first few years of its release, it has seen a large increase in usage to study various subjects such as demand prediction $^{[5]}$. However, since its release was mainly aiming to understand if dToU tariffs were impacting DR in the way we wanted them too, very little analysis has been done. In particular, I will be building off some of the work done by Gareth Piggot $^{[6]}$\n",
    "\n",
    "So what does our data look like?"
   ]
  },
  {
   "cell_type": "markdown",
   "metadata": {},
   "source": [
    "## III. Data\n",
    "Smart meter readings from the United Kingdom over a three year period (2011 to 2014) at half hour intervals. What this means is that from ~5500 households we have total energy draw at 30 minute intervals. They were \"recruited as a balanced sample representative of the Greater London population\"$^{[1]}$. There are two types of groups, those under dynamic time of use pricing and others under static pricing. The main objective of this data collection process was to understand how users of various demographics respond to dynamic pricing compared to static pricing. \"The signals given were designed to be representative of the types of signal that may be used in the future to manage both high renewable generation ... and also test the potential to use high price signals to reduce stress on local distribution grids during periods of stress\" $^{[1]}$\n",
    "\n",
    "### Data templates\n",
    "#### raw data \n",
    "| Column | type | description |\n",
    "|--------|------|-------------|\n",
    "| index(country)  | string  | the country name is the index for this csv          |\n",
    "|   page     |    string  |     the title of the political article in question        |\n",
    "|     rev_id   |   int  |      revision id that uniquely identifies the wikipedia articles most recent submission       |\n",
    "| article_quality | string | quality of this page determined by ORES |\n",
    "| population | float | the population of the country associated with the politician of the page in million |\n",
    "| region | string | the region associated with this country |\n",
    "#### myAnalysesData\n",
    "\n",
    "### Licensing & Permissions\n",
    "The terms and conditions from the london data store explicitly state that anyone \"May use the data contained in this site for any purpose, providing it does not infringe the terms and conditions.\"$^{[2]}$. However, I will also take this time to note __\"...the Greater London Authority cannot warrant the quality or accuracy of the data\"__$^{[2]}$\n",
    "\n",
    "With this taken care of, lets dive into what we will be exploring in the rest of this notebook"
   ]
  },
  {
   "cell_type": "markdown",
   "metadata": {},
   "source": [
    "## IV. Research Questions\n",
    "\n",
    "### 1)\n",
    "\n",
    "### 2)\n",
    "\n",
    "### 3)"
   ]
  },
  {
   "cell_type": "markdown",
   "metadata": {},
   "source": [
    "## V. Methods"
   ]
  },
  {
   "cell_type": "markdown",
   "metadata": {},
   "source": [
    "## VI. Results"
   ]
  },
  {
   "cell_type": "markdown",
   "metadata": {},
   "source": [
    "## VII. Conclusion"
   ]
  },
  {
   "cell_type": "markdown",
   "metadata": {},
   "source": [
    "## References\n",
    "- [] Access to electricity (% of population) (2019).  Retrieved November 22, 2019, from World B ank. https://data.worldbank.org/indicator/eg.elc.accs.zs. CC 4.0 License. \n",
    "- [] Torriti, J., Hassan, M. G., & Leach, M. (2010). Demand response experience in Europe: Policies, programmes and implementation. Energy, 35(4), 1575-1583.\n",
    "- [] Siano, Pierluigi. \"Demand response and smart grids—A survey.\" Renewable and sustainable energy reviews 30 (2014): 461-478.\n",
    "- [] Jordehi, A. R. (2019). Optimisation of demand response in electric power systems, a review. Renewable and Sustainable Energy Reviews, 103, 308-319.\n",
    "- [] Sun, M., Wang, Y., Strbac, G., & Kang, C. (2018). Probabilistic peak load estimation in smart cities using smart meter data. IEEE Transactions on Industrial Electronics, 66(2), 1608-1618.\n",
    "- [] Piggott, G (June 24th, 2015). Electricity Consumption in a Sample of London Households. Retrieved from https://data.london.gov.uk/blog/electricity-consumption-in-a-sample-of-london-households/\n",
    "- [] UK Power Networks. (2015). SmartMeter Energy Consumption Data in London Households [Zip, Data File]. Retrieved from https://data.london.gov.uk/dataset/smartmeter-energy-use-data-in-london-households\n",
    "- [] Terms and Conditions. (2019). Retrieved November 22, 2019, from London Data Store, London Data Store Terms and Conditions. Website, https://data.london.gov.uk/about/terms-and-conditions/\n"
   ]
  },
  {
   "cell_type": "markdown",
   "metadata": {},
   "source": [
    "## Data Cleaning / Supporting Code"
   ]
  }
 ],
 "metadata": {
  "kernelspec": {
   "display_name": "Python 3",
   "language": "python",
   "name": "python3"
  },
  "language_info": {
   "codemirror_mode": {
    "name": "ipython",
    "version": 3
   },
   "file_extension": ".py",
   "mimetype": "text/x-python",
   "name": "python",
   "nbconvert_exporter": "python",
   "pygments_lexer": "ipython3",
   "version": "3.7.1"
  }
 },
 "nbformat": 4,
 "nbformat_minor": 2
}
